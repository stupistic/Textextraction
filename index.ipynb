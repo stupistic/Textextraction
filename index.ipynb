


import pytesseract as tess
tess.pytesseract.tesseract_cmd=r'C:\Program Files\Tesseract-OCR\tesseract.exe'
from pytesseract import image_to_string





from PIL import Image,ImageDraw
from pdf2image import convert_from_path
from IPython.display import display,Image
import easyocr
import numpy as np
from os import path




def pdf_to_image(pdf_file):
    return convert_from_path((pdf_file),poppler_path=r'C:\Program Files\poppler-0.68.0\bin')





def image_to_text(file):
    text=image_to_string(file)
    return text
    





def final_form(pdf_file):
    images=pdf_to_image(pdf_file)
    final_text=''
    for pg,img in enumerate(images):
        final_text+=image_to_text(img)
        print("page no*{}".format(pg))
        print(image_to_text(img))
        
    return final_text





path_to_pdf='final_test.pdf'
images=pdf_to_image(path_to_pdf)





print(final_form(path_to_pdf))





file1=open('output.txt','w')
print(final_form(path_to_pdf),file=file1)
file1.close()





reader=easyocr.Reader(['en'])
for x in images:
    display(x)





boundary=reader.readtext(np.array(images[0]),)




def box(images,boundary,color='green',width=2):
    draw=ImageDraw.Draw(images)
    for b in boundary:
        p0,p1,p2,p3=b[0]
        draw.line([*p0,*p1,*p2,*p3,*p0],fill=color,width=width)
    return images





box(images[0],boundary)
